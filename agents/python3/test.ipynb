{
 "cells": [
  {
   "cell_type": "code",
   "execution_count": null,
   "metadata": {},
   "outputs": [],
   "source": [
    "def _is_in_danger(self, game_state, unit_id):\n",
    "    #unit_position = game_state.get(\"unit_state\")[unit_id].get(\"coordinates\")\n",
    "    gameboard = [\n",
    "            [\"-1\", \"0\", \"0\", \"0\", \"0\", \"0\", \"0\"],\n",
    "            [\"0\", \"0\", \"1\", \"0\", \"0\", \"0\", \"0\"],\n",
    "            [\"0\", \"0\", \"A\", \"0\", \"0\", \"0\", \"0\"],\n",
    "            [\"0\", \"0\", \"0\", \"0\", \"0\", \"0\", \"0\"],\n",
    "            [\"0\", \"0\", \"0\", \"0\", \"0\", \"0\", \"0\"],\n",
    "        ]\n",
    "    unit_position = (2, 2)\n",
    "\n",
    "    rows = len(gameboard)\n",
    "    cols = len(gameboard[0])\n",
    "\n",
    "    # Check for bombs in the same row\n",
    "    for j in range(unit_position[1], max(0, unit_position[1] - 3) -1, -1):\n",
    "        if int(gameboard[unit_position[0]][j]) == 1:\n",
    "            return True\n",
    "        elif int(gameboard[unit_position[0]][j]) == -1:\n",
    "            break\n",
    "    \n",
    "    for j in range(unit_position[1], min(cols, unit_position[1] + 4)):\n",
    "        if int(gameboard[unit_position[0]][j]) == 1:\n",
    "            return True\n",
    "        elif int(gameboard[unit_position[0]][j]) == -1:\n",
    "            break\n",
    "    \n",
    "    # Check for bombs in the same column\n",
    "    for i in range(unit_position[0], max(0, unit_position[0] - 3) -1, -1):\n",
    "        if int(gameboard[i][unit_position[1]]) == 1:\n",
    "            return True\n",
    "        if int(gameboard[i][unit_position[1]]) == -1:\n",
    "            break\n",
    "        \n",
    "    for i in range(unit_position[0], min(rows, unit_position[0] + 4)):\n",
    "        if int(gameboard[i][unit_position[1]]) == 1:\n",
    "            return True\n",
    "        if int(gameboard[i][unit_position[1]]) == -1:\n",
    "            break\n",
    "    \n",
    "    return False"
   ]
  }
 ],
 "metadata": {
  "kernelspec": {
   "display_name": "Python 3",
   "language": "python",
   "name": "python3"
  },
  "language_info": {
   "name": "python",
   "version": "3.10.12"
  }
 },
 "nbformat": 4,
 "nbformat_minor": 2
}
