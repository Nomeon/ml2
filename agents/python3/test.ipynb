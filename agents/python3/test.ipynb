{
 "cells": [
  {
   "cell_type": "code",
   "execution_count": 1,
   "metadata": {},
   "outputs": [],
   "source": [
    "def _is_in_danger(self, game_state, unit_id):\n",
    "    #unit_position = game_state.get(\"unit_state\")[unit_id].get(\"coordinates\")\n",
    "    gameboard = [\n",
    "            [\"-1\", \"0\", \"0\", \"0\", \"0\", \"0\", \"0\"],\n",
    "            [\"0\", \"0\", \"1\", \"0\", \"0\", \"0\", \"0\"],\n",
    "            [\"0\", \"0\", \"A\", \"0\", \"0\", \"0\", \"0\"],\n",
    "            [\"0\", \"0\", \"0\", \"0\", \"0\", \"0\", \"0\"],\n",
    "            [\"0\", \"0\", \"0\", \"0\", \"0\", \"0\", \"0\"],\n",
    "        ]\n",
    "    unit_position = (2, 2)\n",
    "\n",
    "    rows = len(gameboard)\n",
    "    cols = len(gameboard[0])\n",
    "\n",
    "    # Check for bombs in the same row\n",
    "    for j in range(unit_position[1], max(0, unit_position[1] - 3) -1, -1):\n",
    "        if int(gameboard[unit_position[0]][j]) == 1:\n",
    "            return True\n",
    "        elif int(gameboard[unit_position[0]][j]) == -1:\n",
    "            break\n",
    "    \n",
    "    for j in range(unit_position[1], min(cols, unit_position[1] + 4)):\n",
    "        if int(gameboard[unit_position[0]][j]) == 1:\n",
    "            return True\n",
    "        elif int(gameboard[unit_position[0]][j]) == -1:\n",
    "            break\n",
    "    \n",
    "    # Check for bombs in the same column\n",
    "    for i in range(unit_position[0], max(0, unit_position[0] - 3) -1, -1):\n",
    "        if int(gameboard[i][unit_position[1]]) == 1:\n",
    "            return True\n",
    "        if int(gameboard[i][unit_position[1]]) == -1:\n",
    "            break\n",
    "        \n",
    "    for i in range(unit_position[0], min(rows, unit_position[0] + 4)):\n",
    "        if int(gameboard[i][unit_position[1]]) == 1:\n",
    "            return True\n",
    "        if int(gameboard[i][unit_position[1]]) == -1:\n",
    "            break\n",
    "    \n",
    "    return False"
   ]
  },
  {
   "cell_type": "code",
   "execution_count": 9,
   "metadata": {},
   "outputs": [
    {
     "data": {
      "text/plain": [
       "<tf.Tensor: shape=(6,), dtype=float64, numpy=\n",
       "array([0.79970213, 0.5407633 , 0.36541435, 0.61298706, 0.56857539,\n",
       "       0.99109467])>"
      ]
     },
     "execution_count": 9,
     "metadata": {},
     "output_type": "execute_result"
    }
   ],
   "source": [
    "import tensorflow as tf\n",
    "import numpy as np\n",
    "\n",
    "batch_size = 6\n",
    "num_action = 5\n",
    "actions = np.random.randint(low=0,high=num_action, size=batch_size)\n",
    "probs = np.random.random((batch_size,num_action))\n",
    "\n",
    "tf.gather(probs, actions, batch_dims=1)"
   ]
  },
  {
   "cell_type": "code",
   "execution_count": 10,
   "metadata": {},
   "outputs": [
    {
     "data": {
      "text/plain": [
       "array([4, 2, 2, 1, 1, 2])"
      ]
     },
     "execution_count": 10,
     "metadata": {},
     "output_type": "execute_result"
    }
   ],
   "source": [
    "actions"
   ]
  },
  {
   "cell_type": "code",
   "execution_count": 11,
   "metadata": {},
   "outputs": [
    {
     "data": {
      "text/plain": [
       "array([[0.94302171, 0.44758487, 0.74122136, 0.9532858 , 0.79970213],\n",
       "       [0.84854428, 0.49089103, 0.5407633 , 0.46819486, 0.81083195],\n",
       "       [0.84516789, 0.50295087, 0.36541435, 0.9249962 , 0.17804462],\n",
       "       [0.71622306, 0.61298706, 0.50162636, 0.4663532 , 0.62251138],\n",
       "       [0.14310726, 0.56857539, 0.66541009, 0.43763905, 0.82043003],\n",
       "       [0.90962539, 0.34886789, 0.99109467, 0.72355344, 0.28909985]])"
      ]
     },
     "execution_count": 11,
     "metadata": {},
     "output_type": "execute_result"
    }
   ],
   "source": [
    "probs"
   ]
  }
 ],
 "metadata": {
  "kernelspec": {
   "display_name": "Python 3",
   "language": "python",
   "name": "python3"
  },
  "language_info": {
   "codemirror_mode": {
    "name": "ipython",
    "version": 3
   },
   "file_extension": ".py",
   "mimetype": "text/x-python",
   "name": "python",
   "nbconvert_exporter": "python",
   "pygments_lexer": "ipython3",
   "version": "3.10.12"
  }
 },
 "nbformat": 4,
 "nbformat_minor": 2
}
