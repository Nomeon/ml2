{
 "cells": [
  {
   "cell_type": "code",
   "execution_count": 21,
   "metadata": {},
   "outputs": [
    {
     "name": "stdout",
     "output_type": "stream",
     "text": [
      "Total Statistics:\n",
      "Number of games: 20\n",
      "Winner Ratios: {'a': 0.1, 'b': 0.85, 'null': 0.05}\n",
      "Total number of invalid moves: a: 0, b: 0\n",
      "Total number of valid moves: a -> 0 and b -> 0\n",
      "Average number of survived units: {'a': 0.1, 'b': 1.9}\n",
      "Average number of bombs used per agent: {'a': 15.8, 'b': 11.2}\n"
     ]
    }
   ],
   "source": [
    "import os\n",
    "import json\n",
    "\n",
    "# Initialize variables to store aggregated statistics\n",
    "total_files = 0\n",
    "winner_counts = {'a': 0, 'b': 0, 'null' : 0}\n",
    "total_invalid_moves = {'a': 0, 'b': 0}\n",
    "total_valid_moves = {'a': 0, 'b': 0}\n",
    "total_survived_units = {'a': 0, 'b': 0}\n",
    "total_bombs_used = {'a': 0, 'b': 0}\n",
    "\n",
    "# Define the folder path containing the .txt files\n",
    "folder_path = './'\n",
    "\n",
    "# Iterate over each file in the folder\n",
    "for filename in os.listdir(folder_path):\n",
    "    if filename.endswith('.txt') and \"game\" in filename:\n",
    "        with open(os.path.join(folder_path, filename), 'r') as file:\n",
    "            #print(filename)\n",
    "            data = json.loads(file.read())\n",
    "            total_files += 1\n",
    "\n",
    "            # Increment winner counts\n",
    "            if data['winner'] is not None:\n",
    "                winner_counts[data['winner']] += 1\n",
    "            else:\n",
    "                winner_counts[\"null\"] += 1\n",
    "\n",
    "            # Calculate invalid and valid moves\n",
    "            for agent in ['a', 'b']:\n",
    "                total_invalid_moves[agent] += data[agent]['invalid_moves']\n",
    "                total_valid_moves[agent] += data[agent]['valid_moves']\n",
    "\n",
    "                # Calculate survived units and bombs used\n",
    "                for subagent in data[agent]:\n",
    "                    if subagent != 'invalid_moves' and subagent != 'valid_moves':\n",
    "                        hp = data[agent][subagent]['hp']\n",
    "                        bombs_used = data[agent][subagent]['bombs_used']\n",
    "                        if hp > 0:\n",
    "                            total_survived_units[agent] += 1\n",
    "                        total_bombs_used[agent] += bombs_used\n",
    "\n",
    "# Calculate ratios\n",
    "winner_ratios = {agent: count / total_files for agent, count in winner_counts.items()}\n",
    "invalid_moves_ratio = {agent: total_invalid_moves[agent] / total_files for agent in ['a', 'b']}\n",
    "valid_moves_ratio = {agent: total_valid_moves[agent] / total_files for agent in ['a', 'b']}\n",
    "\n",
    "# Calculate averages\n",
    "avg_survived_units = {agent: total_survived_units[agent] / total_files for agent in ['a', 'b']}\n",
    "avg_bombs_used = {agent: total_bombs_used[agent] / total_files for agent in ['a', 'b']}\n",
    "\n",
    "# Display results\n",
    "print(\"Total Statistics:\")\n",
    "print(f\"Number of games: {total_files}\")\n",
    "print(f\"Winner Ratios: {winner_ratios}\")\n",
    "print(f\"Total number of invalid moves: a: {total_invalid_moves['a']}, b: {total_invalid_moves['b']}\")\n",
    "print(f\"Total number of valid moves: a: {total_valid_moves['a']} and b: {total_valid_moves['b']}\")\n",
    "print(f\"Average number of survived units: {avg_survived_units}\")\n",
    "print(f\"Average number of bombs used per agent: {avg_bombs_used}\")\n"
   ]
  },
  {
   "cell_type": "code",
   "execution_count": 9,
   "metadata": {},
   "outputs": [
    {
     "data": {
      "text/plain": [
       "{'winner': 'b',\n",
       " 'total_ticks': 64,\n",
       " 'a': {'invalid_moves': 0,\n",
       "  'valid_moves': 0,\n",
       "  'c': {'hp': 0,\n",
       "   'initial_position': [3, 10],\n",
       "   'final_position': [3, 10],\n",
       "   'bombs_used': 6},\n",
       "  'e': {'hp': 0,\n",
       "   'initial_position': [1, 9],\n",
       "   'final_position': [1, 7],\n",
       "   'bombs_used': 6},\n",
       "  'g': {'hp': 0,\n",
       "   'initial_position': [12, 7],\n",
       "   'final_position': [13, 6],\n",
       "   'bombs_used': 7}},\n",
       " 'b': {'invalid_moves': 0,\n",
       "  'valid_moves': 0,\n",
       "  'd': {'hp': 1,\n",
       "   'initial_position': [11, 10],\n",
       "   'final_position': [12, 6],\n",
       "   'bombs_used': 5},\n",
       "  'f': {'hp': 1,\n",
       "   'initial_position': [13, 9],\n",
       "   'final_position': [14, 6],\n",
       "   'bombs_used': 2},\n",
       "  'h': {'hp': 1,\n",
       "   'initial_position': [2, 7],\n",
       "   'final_position': [2, 8],\n",
       "   'bombs_used': 3}}}"
      ]
     },
     "execution_count": 9,
     "metadata": {},
     "output_type": "execute_result"
    }
   ],
   "source": []
  }
 ],
 "metadata": {
  "kernelspec": {
   "display_name": "Python 3",
   "language": "python",
   "name": "python3"
  },
  "language_info": {
   "codemirror_mode": {
    "name": "ipython",
    "version": 3
   },
   "file_extension": ".py",
   "mimetype": "text/x-python",
   "name": "python",
   "nbconvert_exporter": "python",
   "pygments_lexer": "ipython3",
   "version": "3.10.12"
  }
 },
 "nbformat": 4,
 "nbformat_minor": 2
}
