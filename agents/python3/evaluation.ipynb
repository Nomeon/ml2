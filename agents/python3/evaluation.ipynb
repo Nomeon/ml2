{
 "cells": [
  {
   "cell_type": "code",
   "execution_count": 13,
   "metadata": {},
   "outputs": [
    {
     "name": "stdout",
     "output_type": "stream",
     "text": [
      "Total Statistics:\n",
      "Number of games: 10\n",
      "Winner Ratios: {'a': 0.0, 'b': 1.0, 'null': 0.0}\n",
      "Average number of survived units: {'a': 0.0, 'b': 2.4}\n",
      "Average number of bombs used per agent: {'a': 15.8, 'b': 3.2}\n"
     ]
    }
   ],
   "source": [
    "import os\n",
    "import json\n",
    "\n",
    "# Initialize variables to store aggregated statistics\n",
    "total_files = 0\n",
    "winner_counts = {'a': 0, 'b': 0, 'null' : 0}\n",
    "total_invalid_moves = {'a': 0, 'b': 0}\n",
    "total_valid_moves = {'a': 0, 'b': 0}\n",
    "total_survived_units = {'a': 0, 'b': 0}\n",
    "total_bombs_used = {'a': 0, 'b': 0}\n",
    "\n",
    "# Define the folder path containing the .txt files\n",
    "folder_path = './'\n",
    "\n",
    "# Iterate over each file in the folder\n",
    "for filename in os.listdir(folder_path):\n",
    "    if filename.endswith('.txt') and \"game\" in filename:\n",
    "        with open(os.path.join(folder_path, filename), 'r') as file:\n",
    "            #print(filename)\n",
    "            data = json.loads(file.read())\n",
    "            total_files += 1\n",
    "\n",
    "            # Increment winner counts\n",
    "            if data['winner'] is not None:\n",
    "                winner_counts[data['winner']] += 1\n",
    "            else:\n",
    "                winner_counts[\"null\"] += 1\n",
    "\n",
    "            # Calculate invalid and valid moves\n",
    "            for agent in ['a', 'b']:\n",
    "                total_invalid_moves[agent] += data[agent]['invalid_moves']\n",
    "                total_valid_moves[agent] += data[agent]['valid_moves']\n",
    "\n",
    "                # Calculate survived units and bombs used\n",
    "                for subagent in data[agent]:\n",
    "                    if subagent != 'invalid_moves' and subagent != 'valid_moves':\n",
    "                        hp = data[agent][subagent]['hp']\n",
    "                        bombs_used = data[agent][subagent]['bombs_used']\n",
    "                        if hp > 0:\n",
    "                            total_survived_units[agent] += 1\n",
    "                        total_bombs_used[agent] += bombs_used\n",
    "\n",
    "# Calculate ratios\n",
    "winner_ratios = {agent: count / total_files for agent, count in winner_counts.items()}\n",
    "invalid_moves_ratio = {agent: total_invalid_moves[agent] / total_files for agent in ['a', 'b']}\n",
    "valid_moves_ratio = {agent: total_valid_moves[agent] / total_files for agent in ['a', 'b']}\n",
    "\n",
    "# Calculate averages\n",
    "avg_survived_units = {agent: total_survived_units[agent] / total_files for agent in ['a', 'b']}\n",
    "avg_bombs_used = {agent: total_bombs_used[agent] / total_files for agent in ['a', 'b']}\n",
    "\n",
    "# Display results\n",
    "print(\"Total Statistics:\")\n",
    "print(f\"Number of games: {total_files}\")\n",
    "print(f\"Winner Ratios: {winner_ratios}\")\n",
    "print(f\"Average number of survived units: {avg_survived_units}\")\n",
    "print(f\"Average number of bombs used per agent: {avg_bombs_used}\")\n"
   ]
  }
 ],
 "metadata": {
  "kernelspec": {
   "display_name": "Python 3",
   "language": "python",
   "name": "python3"
  },
  "language_info": {
   "codemirror_mode": {
    "name": "ipython",
    "version": 3
   },
   "file_extension": ".py",
   "mimetype": "text/x-python",
   "name": "python",
   "nbconvert_exporter": "python",
   "pygments_lexer": "ipython3",
   "version": "3.12.0"
  }
 },
 "nbformat": 4,
 "nbformat_minor": 2
}
